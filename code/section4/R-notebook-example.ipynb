{
 "cells": [
  {
   "cell_type": "markdown",
   "metadata": {},
   "source": [
    "The Jupyter notebook has the potential to redefine how computational research is diseminated and taught. The notebook provides a rich combination of formatted text, executable code and other media.\n",
    "\n",
    "It's easy to include well-formatted mathematics such as \n",
    "\n",
    "$$\\int_{-\\infty}^{\\infty} e^{-x^2}dx = \\sqrt\\pi$$\n",
    "\n",
    "The notebook could replace conventional lecture notes completely.\n",
    "\n",
    "# Population data example\n",
    "\n",
    "Now, we show a simple example of some executable code.\n",
    "\n",
    "The code below downloads some data about the population of various countries over time and shows the results for Albania.\n",
    "\n",
    "To run it, click into the cell containing the code and press **Shift** and **Enter** simultaneously."
   ]
  },
  {
   "cell_type": "code",
   "execution_count": null,
   "metadata": {
    "collapsed": false
   },
   "outputs": [],
   "source": [
    "url = \"http://en.openei.org/doe-opendata/dataset/a7fea769-691d-4536-8ed3-471e993a2445/resource/86c50aa8-e40f-4859-b52e-29bb10166456/download/populationbycountry19802010millions.csv\"\n",
    "population_data = read.csv(url,na.strings=c(\"--\",\"NA\"),stringsAsFactors=FALSE,row.names=1,check.names=FALSE)\n",
    "\n",
    "country=\"Albania\"\n",
    "albania_population = unlist(population_data[country,])\n",
    "plot(names(population_data),america_population,ylab = paste(country, \"population (Millions)\"),xlab='Year')\n",
    "\n"
   ]
  },
  {
   "cell_type": "code",
   "execution_count": null,
   "metadata": {
    "collapsed": false
   },
   "outputs": [],
   "source": [
    "# List all available countries by running the following command\n",
    "rownames(population_data)"
   ]
  },
  {
   "cell_type": "markdown",
   "metadata": {},
   "source": [
    "Try changing the country from Albania to another one and re-running the code."
   ]
  }
 ],
 "metadata": {
  "kernelspec": {
   "display_name": "R",
   "language": "R",
   "name": "ir"
  },
  "language_info": {
   "codemirror_mode": "r",
   "file_extension": ".r",
   "mimetype": "text/x-r-source",
   "name": "R",
   "pygments_lexer": "r",
   "version": "3.2.2"
  }
 },
 "nbformat": 4,
 "nbformat_minor": 0
}
